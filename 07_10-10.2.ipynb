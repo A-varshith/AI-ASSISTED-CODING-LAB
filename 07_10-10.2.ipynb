{
  "nbformat": 4,
  "nbformat_minor": 0,
  "metadata": {
    "colab": {
      "provenance": [],
      "authorship_tag": "ABX9TyO2gu7KfgmiZLotC390UuDm",
      "include_colab_link": true
    },
    "kernelspec": {
      "name": "python3",
      "display_name": "Python 3"
    },
    "language_info": {
      "name": "python"
    }
  },
  "cells": [
    {
      "cell_type": "markdown",
      "metadata": {
        "id": "view-in-github",
        "colab_type": "text"
      },
      "source": [
        "<a href=\"https://colab.research.google.com/github/A-varshith/AI-ASSISTED-CODING-LAB/blob/main/07_10-10.2.ipynb\" target=\"_parent\"><img src=\"https://colab.research.google.com/assets/colab-badge.svg\" alt=\"Open In Colab\"/></a>"
      ]
    },
    {
      "cell_type": "code",
      "execution_count": null,
      "metadata": {
        "id": "LM5FT22JzWbm"
      },
      "outputs": [],
      "source": []
    },
    {
      "cell_type": "markdown",
      "source": [
        "TASK 1 :"
      ],
      "metadata": {
        "id": "-Lc3MENr2yIH"
      }
    },
    {
      "cell_type": "code",
      "source": [
        "# Function to calculate factorial\n",
        "def calcFact(n):\n",
        "    result = 1  # initialize result to 1\n",
        "    # Removed unnecessary variable x=0 (was never used)\n",
        "    for i in range(1, n + 1):  # corrected range to include n\n",
        "        result = result * i\n",
        "    return result\n",
        "\n",
        "\n",
        "# Main function\n",
        "def main():\n",
        "    num = 5\n",
        "    FACT = calcFact(num)\n",
        "    print(\"The factorial of\", num, \"is\", FACT)\n",
        "\n",
        "    # Removed unused variable t=10 (not needed)\n",
        "    if FACT > 10:\n",
        "        print(\"BIG Number\")\n",
        "    else:\n",
        "        print(\"Small number\")\n",
        "\n",
        "\n",
        "# Function call to main\n",
        "main()\n"
      ],
      "metadata": {
        "colab": {
          "base_uri": "https://localhost:8080/"
        },
        "id": "5ATx1D8M2ynN",
        "outputId": "7ffee79d-eab1-41e2-8b72-ba6670822844"
      },
      "execution_count": 1,
      "outputs": [
        {
          "output_type": "stream",
          "name": "stdout",
          "text": [
            "The factorial of 5 is 120\n",
            "BIG Number\n"
          ]
        }
      ]
    },
    {
      "cell_type": "markdown",
      "source": [
        "TASK 2:"
      ],
      "metadata": {
        "id": "TT0UzHtM3Xn7"
      }
    },
    {
      "cell_type": "code",
      "source": [
        "# Function to generate Fibonacci series up to a given count\n",
        "def generate_fibonacci(limit):\n",
        "    a, b = 0, 1                     # Initial two Fibonacci numbers\n",
        "    fibonacci_series = [a, b]       # List to store Fibonacci numbers\n",
        "\n",
        "    count = 2                       # Start counting from 2 (since we already have 2 numbers)\n",
        "    while count <= limit:           # Continue until we reach the desired limit\n",
        "        next_num = a + b\n",
        "        fibonacci_series.append(next_num)\n",
        "        a, b = b, next_num          # Update for next iteration\n",
        "        count += 1\n",
        "\n",
        "    return fibonacci_series\n",
        "\n",
        "\n",
        "# Main function to execute the program\n",
        "def main():\n",
        "    n_terms = 10                    # Number of Fibonacci numbers to generate\n",
        "    result = generate_fibonacci(n_terms)\n",
        "    print(\"Fibonacci series till\", n_terms, \"terms:\", result)\n",
        "\n",
        "\n",
        "# Call main function\n",
        "main()\n"
      ],
      "metadata": {
        "id": "rs_CqDOA3hC1"
      },
      "execution_count": null,
      "outputs": []
    },
    {
      "cell_type": "markdown",
      "source": [
        "TASK 3 :"
      ],
      "metadata": {
        "id": "LnrBjRpP414T"
      }
    },
    {
      "cell_type": "code",
      "source": [
        "\"\"\"\n",
        "calculator_module.py\n",
        "====================\n",
        "\n",
        "A simple calculator module that provides basic arithmetic operations.\n",
        "\n",
        "This module demonstrates clean Python code structure, function modularity,\n",
        "and documentation following the NumPy docstring convention.\n",
        "\n",
        "Functions\n",
        "---------\n",
        "add(a, b)\n",
        "    Returns the sum of two numbers.\n",
        "subtract(a, b)\n",
        "    Returns the difference between two numbers.\n",
        "multiply(a, b)\n",
        "    Returns the product of two numbers.\n",
        "divide(a, b)\n",
        "    Returns the quotient of two numbers.\n",
        "\n",
        "Example\n",
        "-------\n",
        ">>> from calculator_module import add, divide\n",
        ">>> add(5, 3)\n",
        "8\n",
        ">>> divide(10, 2)\n",
        "5.0\n",
        "\"\"\"\n",
        "\n",
        "def add(a, b):\n",
        "    \"\"\"\n",
        "    Add two numbers.\n",
        "\n",
        "    Parameters\n",
        "    ----------\n",
        "    a : float or int\n",
        "        The first number.\n",
        "    b : float or int\n",
        "        The second number.\n",
        "\n",
        "    Returns\n",
        "    -------\n",
        "    float\n",
        "        The sum of `a` and `b`.\n",
        "\n",
        "    Examples\n",
        "    --------\n",
        "    >>> add(4, 5)\n",
        "    9\n",
        "    \"\"\"\n",
        "    return a + b\n",
        "\n",
        "\n",
        "def subtract(a, b):\n",
        "    \"\"\"\n",
        "    Subtract one number from another.\n",
        "\n",
        "    Parameters\n",
        "    ----------\n",
        "    a : float or int\n",
        "        The number to subtract from.\n",
        "    b : float or int\n",
        "        The number to subtract.\n",
        "\n",
        "    Returns\n",
        "    -------\n",
        "    float\n",
        "        The result of `a - b`.\n",
        "\n",
        "    Examples\n",
        "    --------\n",
        "    >>> subtract(10, 4)\n",
        "    6\n",
        "    \"\"\"\n",
        "    return a - b\n",
        "\n",
        "\n",
        "def multiply(a, b):\n",
        "    \"\"\"\n",
        "    Multiply two numbers.\n",
        "\n",
        "    Parameters\n",
        "    ----------\n",
        "    a : float or int\n",
        "        The first number.\n",
        "    b : float or int\n",
        "        The second number.\n",
        "\n",
        "    Returns\n",
        "    -------\n",
        "    float\n",
        "        The product of `a` and `b`.\n",
        "\n",
        "    Examples\n",
        "    --------\n",
        "    >>> multiply(3, 7)\n",
        "    21\n",
        "    \"\"\"\n",
        "    return a * b\n",
        "\n",
        "\n",
        "def divide(a, b):\n",
        "    \"\"\"\n",
        "    Divide one number by another.\n",
        "\n",
        "    Parameters\n",
        "    ----------\n",
        "    a : float or int\n",
        "        The numerator.\n",
        "    b : float or int\n",
        "        The denominator.\n",
        "\n",
        "    Returns\n",
        "    -------\n",
        "    float\n",
        "        The quotient of `a / b`.\n",
        "\n",
        "    Raises\n",
        "    ------\n",
        "    ValueError\n",
        "        If `b` is zero.\n",
        "\n",
        "    Examples\n",
        "    --------\n",
        "    >>> divide(10, 2)\n",
        "    5.0\n",
        "    \"\"\"\n",
        "    if b == 0:\n",
        "        raise ValueError(\"Division by zero is not allowed.\")\n",
        "    return a / b\n",
        "\n",
        "\n",
        "# Example usage (only runs when file executed directly)\n",
        "if __name__ == \"__main__\":\n",
        "    print(\"Addition:\", add(10, 5))\n",
        "    print(\"Subtraction:\", subtract(10, 5))\n",
        "    print(\"Multiplication:\", multiply(10, 5))\n",
        "    print(\"Division:\", divide(10, 5))\n"
      ],
      "metadata": {
        "colab": {
          "base_uri": "https://localhost:8080/"
        },
        "id": "aKqXy_dd47zQ",
        "outputId": "15279c08-7a8e-4c0a-d8aa-90a0e560c046"
      },
      "execution_count": 2,
      "outputs": [
        {
          "output_type": "stream",
          "name": "stdout",
          "text": [
            "Addition: 15\n",
            "Subtraction: 5\n",
            "Multiplication: 50\n",
            "Division: 2.0\n"
          ]
        }
      ]
    },
    {
      "cell_type": "markdown",
      "source": [],
      "metadata": {
        "id": "VHEVwY0C47JN"
      }
    }
  ]
}